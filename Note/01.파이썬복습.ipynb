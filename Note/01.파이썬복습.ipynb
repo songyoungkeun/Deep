{
 "cells": [
  {
   "cell_type": "markdown",
   "id": "974cb263",
   "metadata": {},
   "source": [
    "#### 파이썬 List"
   ]
  },
  {
   "cell_type": "code",
   "execution_count": 5,
   "id": "e390d2d8",
   "metadata": {},
   "outputs": [
    {
     "name": "stdout",
     "output_type": "stream",
     "text": [
      "[10, 'hello lists', 20]\n"
     ]
    },
    {
     "data": {
      "text/plain": [
       "'hello lists'"
      ]
     },
     "execution_count": 5,
     "metadata": {},
     "output_type": "execute_result"
    }
   ],
   "source": [
    "my_list = [10, 'hello lists', 20]\n",
    "print(my_list)\n",
    "my_list[1]"
   ]
  },
  {
   "cell_type": "code",
   "execution_count": 9,
   "id": "16f9e459",
   "metadata": {},
   "outputs": [
    {
     "name": "stdout",
     "output_type": "stream",
     "text": [
      "[[10, 20, 30], [40, 50, 60]]\n"
     ]
    },
    {
     "data": {
      "text/plain": [
       "50"
      ]
     },
     "execution_count": 9,
     "metadata": {},
     "output_type": "execute_result"
    }
   ],
   "source": [
    "my_list2 = [\n",
    "    [10, 20, 30],\n",
    "    [40, 50, 60]\n",
    "]\n",
    "print(my_list2)\n",
    "my_list2[1][1]"
   ]
  },
  {
   "cell_type": "markdown",
   "id": "aded5c43",
   "metadata": {},
   "source": [
    "### Numpy\n",
    "#### 배열 생성 및 기초\n",
    ": 딥러닝에서 배열의 기본이 되는 ndarray 사용법 "
   ]
  },
  {
   "cell_type": "code",
   "execution_count": 10,
   "id": "ccd3d70a",
   "metadata": {},
   "outputs": [],
   "source": [
    "import numpy as np"
   ]
  },
  {
   "cell_type": "code",
   "execution_count": 11,
   "id": "22e25a8c",
   "metadata": {},
   "outputs": [
    {
     "data": {
      "text/plain": [
       "array([1, 2, 3])"
      ]
     },
     "execution_count": 11,
     "metadata": {},
     "output_type": "execute_result"
    }
   ],
   "source": [
    "# 1차원 배열\n",
    "arr1 = np.array(\n",
    "    [1,2,3]\n",
    ")\n",
    "arr1"
   ]
  },
  {
   "cell_type": "code",
   "execution_count": 12,
   "id": "d0ea03fb",
   "metadata": {},
   "outputs": [
    {
     "data": {
      "text/plain": [
       "array([[10, 20, 30],\n",
       "       [40, 50, 60]])"
      ]
     },
     "execution_count": 12,
     "metadata": {},
     "output_type": "execute_result"
    }
   ],
   "source": [
    "# 2차원 배열\n",
    "my_arr = np.array(\n",
    "    [\n",
    "        [10, 20, 30],\n",
    "        [40, 50, 60],\n",
    "    ]\n",
    ")\n",
    "my_arr"
   ]
  },
  {
   "cell_type": "code",
   "execution_count": 15,
   "id": "dc2d02fe",
   "metadata": {},
   "outputs": [
    {
     "data": {
      "text/plain": [
       "30"
      ]
     },
     "execution_count": 15,
     "metadata": {},
     "output_type": "execute_result"
    }
   ],
   "source": [
    "my_arr[0][2]\n",
    "my_arr[0,2]"
   ]
  },
  {
   "cell_type": "code",
   "execution_count": 19,
   "id": "7930b376",
   "metadata": {},
   "outputs": [
    {
     "data": {
      "text/plain": [
       "210"
      ]
     },
     "execution_count": 19,
     "metadata": {},
     "output_type": "execute_result"
    }
   ],
   "source": [
    "# Numpy 내장 함수 사용하기\n",
    "np.sum(my_arr)\n"
   ]
  },
  {
   "cell_type": "code",
   "execution_count": 24,
   "id": "faf75821",
   "metadata": {},
   "outputs": [
    {
     "data": {
      "text/plain": [
       "array([[[0., 0., 0.],\n",
       "        [0., 0., 0.],\n",
       "        [0., 0., 0.]],\n",
       "\n",
       "       [[0., 0., 0.],\n",
       "        [0., 0., 0.],\n",
       "        [0., 0., 0.]]])"
      ]
     },
     "execution_count": 24,
     "metadata": {},
     "output_type": "execute_result"
    }
   ],
   "source": [
    "# 특정 값으로 초기화\n",
    "\n",
    "np.zeros(3)\n",
    "np.zeros((2,3))\n",
    "np.zeros((2,3,3))"
   ]
  },
  {
   "cell_type": "code",
   "execution_count": 25,
   "id": "736961e3",
   "metadata": {},
   "outputs": [
    {
     "data": {
      "text/plain": [
       "array([[1., 1., 1.],\n",
       "       [1., 1., 1.],\n",
       "       [1., 1., 1.]])"
      ]
     },
     "execution_count": 25,
     "metadata": {},
     "output_type": "execute_result"
    }
   ],
   "source": [
    "np.ones((3,3))"
   ]
  },
  {
   "cell_type": "code",
   "execution_count": 26,
   "id": "1c46879c",
   "metadata": {},
   "outputs": [
    {
     "data": {
      "text/plain": [
       "array([[7, 7],\n",
       "       [7, 7]])"
      ]
     },
     "execution_count": 26,
     "metadata": {},
     "output_type": "execute_result"
    }
   ],
   "source": [
    "np.full((2,2), 7)"
   ]
  },
  {
   "cell_type": "code",
   "execution_count": 28,
   "id": "a0d897ce",
   "metadata": {},
   "outputs": [
    {
     "data": {
      "text/plain": [
       "array([[1., 0., 0., 0., 0.],\n",
       "       [0., 1., 0., 0., 0.],\n",
       "       [0., 0., 1., 0., 0.],\n",
       "       [0., 0., 0., 1., 0.],\n",
       "       [0., 0., 0., 0., 1.]])"
      ]
     },
     "execution_count": 28,
     "metadata": {},
     "output_type": "execute_result"
    }
   ],
   "source": [
    "# 단위 행렬\n",
    "np.eye(5)"
   ]
  },
  {
   "cell_type": "code",
   "execution_count": 30,
   "id": "d39e7ebd",
   "metadata": {},
   "outputs": [
    {
     "data": {
      "text/plain": [
       "array([0. , 1.5, 3. , 4.5, 6. , 7.5, 9. ])"
      ]
     },
     "execution_count": 30,
     "metadata": {},
     "output_type": "execute_result"
    }
   ],
   "source": [
    "np.arange(0, 10, 1.5)"
   ]
  },
  {
   "cell_type": "code",
   "execution_count": 31,
   "id": "d624a488",
   "metadata": {},
   "outputs": [
    {
     "data": {
      "text/plain": [
       "array([0.  , 0.25, 0.5 , 0.75, 1.  ])"
      ]
     },
     "execution_count": 31,
     "metadata": {},
     "output_type": "execute_result"
    }
   ],
   "source": [
    "# 0~1범위에서 5개 값 균등 분할 \n",
    "np.linspace(0, 1, 5)"
   ]
  },
  {
   "cell_type": "markdown",
   "id": "a229b52c",
   "metadata": {},
   "source": [
    "#### 배열 속성 및 변형"
   ]
  },
  {
   "cell_type": "code",
   "execution_count": 32,
   "id": "b08d2f74",
   "metadata": {},
   "outputs": [
    {
     "data": {
      "text/plain": [
       "array([[10, 20, 30],\n",
       "       [40, 50, 60]])"
      ]
     },
     "execution_count": 32,
     "metadata": {},
     "output_type": "execute_result"
    }
   ],
   "source": [
    "my_arr"
   ]
  },
  {
   "cell_type": "code",
   "execution_count": 33,
   "id": "2be67310",
   "metadata": {},
   "outputs": [
    {
     "data": {
      "text/plain": [
       "(2, 3)"
      ]
     },
     "execution_count": 33,
     "metadata": {},
     "output_type": "execute_result"
    }
   ],
   "source": [
    "# 형태\n",
    "my_arr.shape"
   ]
  },
  {
   "cell_type": "code",
   "execution_count": 34,
   "id": "34a6e88b",
   "metadata": {},
   "outputs": [
    {
     "data": {
      "text/plain": [
       "2"
      ]
     },
     "execution_count": 34,
     "metadata": {},
     "output_type": "execute_result"
    }
   ],
   "source": [
    "# 차원수\n",
    "my_arr.ndim"
   ]
  },
  {
   "cell_type": "code",
   "execution_count": 35,
   "id": "7c7d350c",
   "metadata": {},
   "outputs": [
    {
     "data": {
      "text/plain": [
       "dtype('int32')"
      ]
     },
     "execution_count": 35,
     "metadata": {},
     "output_type": "execute_result"
    }
   ],
   "source": [
    "# 데이터 타입\n",
    "my_arr.dtype"
   ]
  },
  {
   "cell_type": "code",
   "execution_count": 36,
   "id": "9d99cf75",
   "metadata": {},
   "outputs": [
    {
     "data": {
      "text/plain": [
       "6"
      ]
     },
     "execution_count": 36,
     "metadata": {},
     "output_type": "execute_result"
    }
   ],
   "source": [
    "# 전체 data 갯수\n",
    "my_arr.size"
   ]
  },
  {
   "cell_type": "code",
   "execution_count": 38,
   "id": "3a17c0ea",
   "metadata": {},
   "outputs": [
    {
     "data": {
      "text/plain": [
       "array([[10, 20],\n",
       "       [30, 40],\n",
       "       [50, 60]])"
      ]
     },
     "execution_count": 38,
     "metadata": {},
     "output_type": "execute_result"
    }
   ],
   "source": [
    "# 차원 변경 : 2X3 -> 3X2\n",
    "my_arr.reshape(3,2)"
   ]
  },
  {
   "cell_type": "code",
   "execution_count": 40,
   "id": "cf7f7d87",
   "metadata": {},
   "outputs": [
    {
     "data": {
      "text/plain": [
       "array([[10, 40],\n",
       "       [20, 50],\n",
       "       [30, 60]])"
      ]
     },
     "execution_count": 40,
     "metadata": {},
     "output_type": "execute_result"
    }
   ],
   "source": [
    "my_arr.T"
   ]
  },
  {
   "cell_type": "markdown",
   "id": "b6436ca0",
   "metadata": {},
   "source": [
    "#### indexing과 slicing\n",
    ": 배열에서 원하는 값 선택, Masking, 조건처리"
   ]
  },
  {
   "cell_type": "code",
   "execution_count": 39,
   "id": "85814aea",
   "metadata": {},
   "outputs": [
    {
     "data": {
      "text/plain": [
       "array([[10, 20, 30],\n",
       "       [40, 50, 60]])"
      ]
     },
     "execution_count": 39,
     "metadata": {},
     "output_type": "execute_result"
    }
   ],
   "source": [
    "my_arr"
   ]
  },
  {
   "cell_type": "code",
   "execution_count": 51,
   "id": "424e073d",
   "metadata": {},
   "outputs": [
    {
     "name": "stdout",
     "output_type": "stream",
     "text": [
      "[10 20 30]\n",
      "[[40 50 60]]\n",
      "[[10 20 30]]\n",
      "[20 50]\n",
      "[[40 60]]\n"
     ]
    },
    {
     "data": {
      "text/plain": [
       "array([50, 60])"
      ]
     },
     "execution_count": 51,
     "metadata": {},
     "output_type": "execute_result"
    }
   ],
   "source": [
    "print(my_arr[0])\n",
    "print(my_arr[1:])\n",
    "print(my_arr[0:1])\n",
    "print(my_arr[:,1])\n",
    "print(my_arr[1:,::2])\n",
    "my_arr[my_arr > 40]"
   ]
  },
  {
   "cell_type": "code",
   "execution_count": 58,
   "id": "f442444a",
   "metadata": {},
   "outputs": [
    {
     "name": "stdout",
     "output_type": "stream",
     "text": [
      "(6, 1)\n",
      "[[10]\n",
      " [20]\n",
      " [30]\n",
      " [40]\n",
      " [50]\n",
      " [60]]\n",
      "int32\n",
      "[10 20 30 40 50 60]\n",
      "(6,)\n",
      "int32\n"
     ]
    }
   ],
   "source": [
    "# 1차원으로 평탄화 \n",
    "my_arr2 = my_arr.reshape(-1, 1)\n",
    "print(my_arr2.shape)\n",
    "print(my_arr2)\n",
    "print(my_arr.dtype)\n",
    "my_arr3 = my_arr.ravel()\n",
    "print(my_arr3)\n",
    "print(my_arr3.shape)\n",
    "print(my_arr3.dtype)"
   ]
  },
  {
   "cell_type": "code",
   "execution_count": 63,
   "id": "0554a9a4",
   "metadata": {},
   "outputs": [
    {
     "data": {
      "text/plain": [
       "(1,)"
      ]
     },
     "execution_count": 63,
     "metadata": {},
     "output_type": "execute_result"
    }
   ],
   "source": [
    "a = 1,\n",
    "a"
   ]
  },
  {
   "cell_type": "markdown",
   "id": "93e74c64",
   "metadata": {},
   "source": [
    "#### BroadCasting\n",
    ": 서로 다른 차원의 배열간 연산을 가능하게 함\n",
    "- 두 배열의 차원 수를 오른쪽(행,열)에서 부터 비교 \n",
    "- 각 차원의 크기가 일치하거나 , 열이 1이면 연산가능하고 그렇지 않으면 오류 발생 "
   ]
  },
  {
   "cell_type": "code",
   "execution_count": 64,
   "id": "5a79ceb3",
   "metadata": {},
   "outputs": [
    {
     "data": {
      "text/plain": [
       "array([[1, 1, 1],\n",
       "       [2, 2, 2],\n",
       "       [3, 3, 3]])"
      ]
     },
     "execution_count": 64,
     "metadata": {},
     "output_type": "execute_result"
    }
   ],
   "source": [
    "# 각 차원의 크기가 일치하는 덧셈\n",
    "arr1 = np.array(\n",
    "    [\n",
    "        [1,1,1],\n",
    "        [2,2,2],\n",
    "        [3,3,3],\n",
    "    ]\n",
    ")\n",
    "arr1"
   ]
  },
  {
   "cell_type": "code",
   "execution_count": 65,
   "id": "388a2b93",
   "metadata": {},
   "outputs": [
    {
     "data": {
      "text/plain": [
       "array([[10, 10, 10],\n",
       "       [20, 20, 20],\n",
       "       [30, 30, 30]])"
      ]
     },
     "execution_count": 65,
     "metadata": {},
     "output_type": "execute_result"
    }
   ],
   "source": [
    "arr2 = np.array(\n",
    "    [\n",
    "        [10,10,10],\n",
    "        [20,20,20],\n",
    "        [30,30,30],\n",
    "    ]\n",
    ")\n",
    "arr2"
   ]
  },
  {
   "cell_type": "code",
   "execution_count": 66,
   "id": "3d3db2c0",
   "metadata": {},
   "outputs": [
    {
     "data": {
      "text/plain": [
       "array([[11, 11, 11],\n",
       "       [22, 22, 22],\n",
       "       [33, 33, 33]])"
      ]
     },
     "execution_count": 66,
     "metadata": {},
     "output_type": "execute_result"
    }
   ],
   "source": [
    "arr1 + arr2"
   ]
  },
  {
   "cell_type": "code",
   "execution_count": 68,
   "id": "26151c80",
   "metadata": {},
   "outputs": [
    {
     "name": "stdout",
     "output_type": "stream",
     "text": [
      "(3, 1)\n"
     ]
    },
    {
     "data": {
      "text/plain": [
       "array([[1],\n",
       "       [2],\n",
       "       [3]])"
      ]
     },
     "execution_count": 68,
     "metadata": {},
     "output_type": "execute_result"
    }
   ],
   "source": [
    "# 각 차원의 크기가 일치하지 않거나 각 차원중 한개의 차원이 1인 경우\n",
    "\n",
    "arr1 = np.array(\n",
    "    [\n",
    "        [1],\n",
    "        [2],\n",
    "        [3]\n",
    "    ]\n",
    ")\n",
    "print(arr1.shape)\n",
    "arr1"
   ]
  },
  {
   "cell_type": "code",
   "execution_count": 70,
   "id": "ac1ff7c1",
   "metadata": {},
   "outputs": [
    {
     "name": "stdout",
     "output_type": "stream",
     "text": [
      "(3,)\n"
     ]
    },
    {
     "data": {
      "text/plain": [
       "array([10, 20, 30])"
      ]
     },
     "execution_count": 70,
     "metadata": {},
     "output_type": "execute_result"
    }
   ],
   "source": [
    "arr2 = np.array(\n",
    "    [10, 20, 30]\n",
    ")\n",
    "print(arr2.shape)\n",
    "arr2"
   ]
  },
  {
   "cell_type": "code",
   "execution_count": 73,
   "id": "3c39092b",
   "metadata": {},
   "outputs": [
    {
     "name": "stdout",
     "output_type": "stream",
     "text": [
      "(3, 3)\n"
     ]
    },
    {
     "data": {
      "text/plain": [
       "array([[11, 21, 31],\n",
       "       [12, 22, 32],\n",
       "       [13, 23, 33]])"
      ]
     },
     "execution_count": 73,
     "metadata": {},
     "output_type": "execute_result"
    }
   ],
   "source": [
    "print((arr1 + arr2).shape)\n",
    "arr1 + arr2"
   ]
  },
  {
   "cell_type": "code",
   "execution_count": 75,
   "id": "5355a649",
   "metadata": {},
   "outputs": [
    {
     "name": "stdout",
     "output_type": "stream",
     "text": [
      "Error: operands could not be broadcast together with shapes (2,3) (2,) \n"
     ]
    }
   ],
   "source": [
    "# 않되는 경우\n",
    "arr1 = np.array(\n",
    "    [\n",
    "        [1,2,3],\n",
    "        [4,5,6]\n",
    "    ]\n",
    ")\n",
    "\n",
    "arr2 = np.array(\n",
    "    [10,20]\n",
    ")\n",
    "\n",
    "try:\n",
    "    arr1 + arr2\n",
    "except ValueError as e:\n",
    "    print(\"Error:\", e)\n"
   ]
  },
  {
   "cell_type": "markdown",
   "id": "58cfb805",
   "metadata": {},
   "source": [
    "#### 벡터/행렬 연산\n",
    ": 딥러닝에서 가중치 계산, loss(손실함수), gradient(가중치)등에 필수"
   ]
  },
  {
   "cell_type": "code",
   "execution_count": 76,
   "id": "f833bf3d",
   "metadata": {},
   "outputs": [
    {
     "name": "stdout",
     "output_type": "stream",
     "text": [
      "(3,)\n"
     ]
    },
    {
     "data": {
      "text/plain": [
       "array([10, 20, 30])"
      ]
     },
     "execution_count": 76,
     "metadata": {},
     "output_type": "execute_result"
    }
   ],
   "source": [
    "arr1 = np.array(\n",
    "    [10, 20, 30]\n",
    ")\n",
    "print(arr1.shape)\n",
    "arr1"
   ]
  },
  {
   "cell_type": "code",
   "execution_count": 77,
   "id": "8901ef85",
   "metadata": {},
   "outputs": [
    {
     "name": "stdout",
     "output_type": "stream",
     "text": [
      "(3, 1)\n"
     ]
    },
    {
     "data": {
      "text/plain": [
       "array([[1],\n",
       "       [2],\n",
       "       [3]])"
      ]
     },
     "execution_count": 77,
     "metadata": {},
     "output_type": "execute_result"
    }
   ],
   "source": [
    "arr2 = np.array(\n",
    "    [\n",
    "        [1],\n",
    "        [2],\n",
    "        [3]\n",
    "    ]\n",
    ")\n",
    "print(arr2.shape)\n",
    "arr2"
   ]
  },
  {
   "cell_type": "code",
   "execution_count": 79,
   "id": "4ff7e260",
   "metadata": {},
   "outputs": [
    {
     "data": {
      "text/plain": [
       "array([[11, 21, 31],\n",
       "       [12, 22, 32],\n",
       "       [13, 23, 33]])"
      ]
     },
     "execution_count": 79,
     "metadata": {},
     "output_type": "execute_result"
    }
   ],
   "source": [
    "arr1 + arr2\n",
    "np.add(arr1, arr2)"
   ]
  },
  {
   "cell_type": "code",
   "execution_count": 81,
   "id": "2148b8d0",
   "metadata": {},
   "outputs": [
    {
     "data": {
      "text/plain": [
       "array([[ 9, 19, 29],\n",
       "       [ 8, 18, 28],\n",
       "       [ 7, 17, 27]])"
      ]
     },
     "execution_count": 81,
     "metadata": {},
     "output_type": "execute_result"
    }
   ],
   "source": [
    "arr1 - arr2\n",
    "np.subtract(arr1, arr2)"
   ]
  },
  {
   "cell_type": "code",
   "execution_count": 83,
   "id": "b627fc6f",
   "metadata": {},
   "outputs": [
    {
     "data": {
      "text/plain": [
       "array([[10, 20, 30],\n",
       "       [20, 40, 60],\n",
       "       [30, 60, 90]])"
      ]
     },
     "execution_count": 83,
     "metadata": {},
     "output_type": "execute_result"
    }
   ],
   "source": [
    "arr1 * arr2\n",
    "np.multiply(arr1, arr2)"
   ]
  },
  {
   "cell_type": "code",
   "execution_count": 85,
   "id": "2456a468",
   "metadata": {},
   "outputs": [
    {
     "data": {
      "text/plain": [
       "array([[10.        , 20.        , 30.        ],\n",
       "       [ 5.        , 10.        , 15.        ],\n",
       "       [ 3.33333333,  6.66666667, 10.        ]])"
      ]
     },
     "execution_count": 85,
     "metadata": {},
     "output_type": "execute_result"
    }
   ],
   "source": [
    "arr1 / arr2\n",
    "np.divide(arr1, arr2)"
   ]
  },
  {
   "cell_type": "code",
   "execution_count": 86,
   "id": "217a74ea",
   "metadata": {},
   "outputs": [
    {
     "data": {
      "text/plain": [
       "array([140])"
      ]
     },
     "execution_count": 86,
     "metadata": {},
     "output_type": "execute_result"
    }
   ],
   "source": [
    "# 행렬 연산\n",
    "np.matmul(arr1, arr2)"
   ]
  },
  {
   "cell_type": "code",
   "execution_count": 88,
   "id": "54987dde",
   "metadata": {},
   "outputs": [
    {
     "name": "stdout",
     "output_type": "stream",
     "text": [
      "[10 20 30]\n",
      "[[1]\n",
      " [2]\n",
      " [3]]\n"
     ]
    }
   ],
   "source": [
    "print(arr1)\n",
    "print(arr2)"
   ]
  },
  {
   "cell_type": "code",
   "execution_count": 89,
   "id": "54ef4417",
   "metadata": {},
   "outputs": [
    {
     "data": {
      "text/plain": [
       "140"
      ]
     },
     "execution_count": 89,
     "metadata": {},
     "output_type": "execute_result"
    }
   ],
   "source": [
    "(10*1) + (20*2) + (30*3)"
   ]
  },
  {
   "cell_type": "code",
   "execution_count": 90,
   "id": "4087c2a0",
   "metadata": {},
   "outputs": [
    {
     "data": {
      "text/plain": [
       "array([140])"
      ]
     },
     "execution_count": 90,
     "metadata": {},
     "output_type": "execute_result"
    }
   ],
   "source": [
    "# Python 3.5이상\n",
    "arr1 @ arr2"
   ]
  },
  {
   "cell_type": "markdown",
   "id": "1dff42ec",
   "metadata": {},
   "source": [
    "#### 통계 및 수학함수\n",
    ": 손실계산, 평균, 분산, 정규화 등에 사용"
   ]
  },
  {
   "cell_type": "code",
   "execution_count": 91,
   "id": "30845aa5",
   "metadata": {},
   "outputs": [
    {
     "data": {
      "text/plain": [
       "array([10, 20, 30])"
      ]
     },
     "execution_count": 91,
     "metadata": {},
     "output_type": "execute_result"
    }
   ],
   "source": [
    "arr1"
   ]
  },
  {
   "cell_type": "code",
   "execution_count": 92,
   "id": "f8c34820",
   "metadata": {},
   "outputs": [
    {
     "data": {
      "text/plain": [
       "20.0"
      ]
     },
     "execution_count": 92,
     "metadata": {},
     "output_type": "execute_result"
    }
   ],
   "source": [
    "# 평균\n",
    "np.mean(arr1)"
   ]
  },
  {
   "cell_type": "code",
   "execution_count": 93,
   "id": "0ab0205a",
   "metadata": {},
   "outputs": [
    {
     "data": {
      "text/plain": [
       "8.16496580927726"
      ]
     },
     "execution_count": 93,
     "metadata": {},
     "output_type": "execute_result"
    }
   ],
   "source": [
    "# 표준편차\n",
    "np.std(arr1)"
   ]
  },
  {
   "cell_type": "code",
   "execution_count": 94,
   "id": "cbbd5615",
   "metadata": {},
   "outputs": [
    {
     "data": {
      "text/plain": [
       "66.66666666666667"
      ]
     },
     "execution_count": 94,
     "metadata": {},
     "output_type": "execute_result"
    }
   ],
   "source": [
    "# 분산\n",
    "np.var(arr1)"
   ]
  },
  {
   "cell_type": "code",
   "execution_count": 95,
   "id": "479c2cd7",
   "metadata": {},
   "outputs": [
    {
     "data": {
      "text/plain": [
       "60"
      ]
     },
     "execution_count": 95,
     "metadata": {},
     "output_type": "execute_result"
    }
   ],
   "source": [
    "# 합계\n",
    "np.sum(arr1)"
   ]
  },
  {
   "cell_type": "code",
   "execution_count": 96,
   "id": "0a70e5f8",
   "metadata": {},
   "outputs": [
    {
     "data": {
      "text/plain": [
       "array([[10, 20, 30],\n",
       "       [20, 40, 60],\n",
       "       [30, 60, 90]])"
      ]
     },
     "execution_count": 96,
     "metadata": {},
     "output_type": "execute_result"
    }
   ],
   "source": [
    "arr3 = arr1 * arr2\n",
    "arr3"
   ]
  },
  {
   "cell_type": "code",
   "execution_count": null,
   "id": "e9e63c22",
   "metadata": {},
   "outputs": [
    {
     "data": {
      "text/plain": [
       "array([ 60, 120, 180])"
      ]
     },
     "execution_count": 97,
     "metadata": {},
     "output_type": "execute_result"
    }
   ],
   "source": [
    "# 행간의 합계\n",
    "np.sum(arr3, axis=0)"
   ]
  },
  {
   "cell_type": "code",
   "execution_count": 98,
   "id": "58baa9c2",
   "metadata": {},
   "outputs": [
    {
     "data": {
      "text/plain": [
       "array([ 60, 120, 180])"
      ]
     },
     "execution_count": 98,
     "metadata": {},
     "output_type": "execute_result"
    }
   ],
   "source": [
    "# 열간의 합계\n",
    "np.sum(arr3, axis=1)"
   ]
  },
  {
   "cell_type": "code",
   "execution_count": 100,
   "id": "f1bc5901",
   "metadata": {},
   "outputs": [
    {
     "data": {
      "text/plain": [
       "360"
      ]
     },
     "execution_count": 100,
     "metadata": {},
     "output_type": "execute_result"
    }
   ],
   "source": [
    "# 전체 합계\n",
    "np.sum(arr3)\n",
    "np.sum(arr3, axis=(0,1))"
   ]
  },
  {
   "cell_type": "markdown",
   "id": "14967f36",
   "metadata": {},
   "source": [
    "#### 난수 생성\n",
    ": 신경망 weight 초기화, 데이터 섞기 등에서 사용 "
   ]
  },
  {
   "cell_type": "code",
   "execution_count": 101,
   "id": "d4e982dc",
   "metadata": {},
   "outputs": [],
   "source": [
    "# 재현 가능성\n",
    "np.random.seed(42)"
   ]
  },
  {
   "cell_type": "code",
   "execution_count": 102,
   "id": "de38e5c7",
   "metadata": {},
   "outputs": [
    {
     "data": {
      "text/plain": [
       "array([[0.37454012, 0.95071431],\n",
       "       [0.73199394, 0.59865848],\n",
       "       [0.15601864, 0.15599452]])"
      ]
     },
     "execution_count": 102,
     "metadata": {},
     "output_type": "execute_result"
    }
   ],
   "source": [
    "# 0~1 균등분포\n",
    "np.random.rand(3,2)"
   ]
  },
  {
   "cell_type": "code",
   "execution_count": 103,
   "id": "a733fb04",
   "metadata": {},
   "outputs": [
    {
     "data": {
      "text/plain": [
       "array([[ 1.57921282,  0.76743473],\n",
       "       [-0.46947439,  0.54256004],\n",
       "       [-0.46341769, -0.46572975]])"
      ]
     },
     "execution_count": 103,
     "metadata": {},
     "output_type": "execute_result"
    }
   ],
   "source": [
    "# 평균이 0, 분산이 1인 정규분포\n",
    "np.random.randn(3,2)"
   ]
  },
  {
   "cell_type": "code",
   "execution_count": 113,
   "id": "afb825d8",
   "metadata": {},
   "outputs": [
    {
     "data": {
      "text/plain": [
       "array([[4, 7],\n",
       "       [9, 8],\n",
       "       [8, 0]])"
      ]
     },
     "execution_count": 113,
     "metadata": {},
     "output_type": "execute_result"
    }
   ],
   "source": [
    "# 정수의 랜덤\n",
    "np.random.randint(0, 10, (3,2))"
   ]
  },
  {
   "cell_type": "code",
   "execution_count": 115,
   "id": "b64e8860",
   "metadata": {},
   "outputs": [
    {
     "data": {
      "text/plain": [
       "array([5, 1, 9, 4, 2, 3, 7, 0, 6, 8])"
      ]
     },
     "execution_count": 115,
     "metadata": {},
     "output_type": "execute_result"
    }
   ],
   "source": [
    "# shuffle\n",
    "np.random.permutation(10)"
   ]
  },
  {
   "cell_type": "markdown",
   "id": "1496d4fd",
   "metadata": {},
   "source": [
    "#### 조건 및 논리 연산\n",
    ": 데이터 전처리, 마스킹 처리 등에 활용"
   ]
  },
  {
   "cell_type": "code",
   "execution_count": 117,
   "id": "4d4b04a8",
   "metadata": {},
   "outputs": [
    {
     "data": {
      "text/plain": [
       "array([False, False,  True])"
      ]
     },
     "execution_count": 117,
     "metadata": {},
     "output_type": "execute_result"
    }
   ],
   "source": [
    "arr1 > 20"
   ]
  },
  {
   "cell_type": "code",
   "execution_count": 118,
   "id": "79b50b30",
   "metadata": {},
   "outputs": [
    {
     "data": {
      "text/plain": [
       "array([0, 0, 1])"
      ]
     },
     "execution_count": 118,
     "metadata": {},
     "output_type": "execute_result"
    }
   ],
   "source": [
    "# 조건에 따라 선택\n",
    "np.where(arr1 > 20, 1, 0)"
   ]
  },
  {
   "cell_type": "code",
   "execution_count": 119,
   "id": "2940f911",
   "metadata": {},
   "outputs": [
    {
     "data": {
      "text/plain": [
       "True"
      ]
     },
     "execution_count": 119,
     "metadata": {},
     "output_type": "execute_result"
    }
   ],
   "source": [
    "# 하나라도 참이면 True\n",
    "np.any(arr1 > 20)"
   ]
  },
  {
   "cell_type": "code",
   "execution_count": 120,
   "id": "cb39cd2e",
   "metadata": {},
   "outputs": [
    {
     "data": {
      "text/plain": [
       "False"
      ]
     },
     "execution_count": 120,
     "metadata": {},
     "output_type": "execute_result"
    }
   ],
   "source": [
    "# 모두가 참일때만 True\n",
    "np.all(arr1 > 20)"
   ]
  },
  {
   "cell_type": "markdown",
   "id": "f303dc2f",
   "metadata": {},
   "source": [
    "#### axis축 개념과 연산\n",
    ": 벡터와 행렬을 어떤 방향으로 합치거나 연산할지를 제어"
   ]
  },
  {
   "cell_type": "code",
   "execution_count": 121,
   "id": "ec7defc9",
   "metadata": {},
   "outputs": [
    {
     "data": {
      "text/plain": [
       "array([[10, 20, 30],\n",
       "       [20, 40, 60],\n",
       "       [30, 60, 90]])"
      ]
     },
     "execution_count": 121,
     "metadata": {},
     "output_type": "execute_result"
    }
   ],
   "source": [
    "arr3"
   ]
  },
  {
   "cell_type": "code",
   "execution_count": 122,
   "id": "dd6a9761",
   "metadata": {},
   "outputs": [
    {
     "data": {
      "text/plain": [
       "array([ 60, 120, 180])"
      ]
     },
     "execution_count": 122,
     "metadata": {},
     "output_type": "execute_result"
    }
   ],
   "source": [
    "# 행간 합계\n",
    "np.sum(arr3, axis=0)"
   ]
  },
  {
   "cell_type": "code",
   "execution_count": 123,
   "id": "ba6a049c",
   "metadata": {},
   "outputs": [
    {
     "data": {
      "text/plain": [
       "array([ 60, 120, 180])"
      ]
     },
     "execution_count": 123,
     "metadata": {},
     "output_type": "execute_result"
    }
   ],
   "source": [
    "# 열간 합계\n",
    "np.sum(arr3, axis=1)"
   ]
  },
  {
   "cell_type": "code",
   "execution_count": 124,
   "id": "5ae635c6",
   "metadata": {},
   "outputs": [
    {
     "data": {
      "text/plain": [
       "array([[10, 20, 30],\n",
       "       [20, 40, 60],\n",
       "       [30, 60, 90],\n",
       "       [10, 20, 30],\n",
       "       [20, 40, 60],\n",
       "       [30, 60, 90]])"
      ]
     },
     "execution_count": 124,
     "metadata": {},
     "output_type": "execute_result"
    }
   ],
   "source": [
    "# 행간으로 데이터 추가하기\n",
    "np.concatenate([arr3, arr3], axis=0)"
   ]
  },
  {
   "cell_type": "code",
   "execution_count": 125,
   "id": "08cc4909",
   "metadata": {},
   "outputs": [
    {
     "data": {
      "text/plain": [
       "array([[10, 20, 30, 10, 20, 30],\n",
       "       [20, 40, 60, 20, 40, 60],\n",
       "       [30, 60, 90, 30, 60, 90]])"
      ]
     },
     "execution_count": 125,
     "metadata": {},
     "output_type": "execute_result"
    }
   ],
   "source": [
    "# 열간으로 데이터 추가하기\n",
    "np.concatenate([arr3, arr3], axis=1)"
   ]
  },
  {
   "cell_type": "code",
   "execution_count": 126,
   "id": "69df042b",
   "metadata": {},
   "outputs": [
    {
     "data": {
      "text/plain": [
       "array([[10, 20, 30, 10, 20, 30],\n",
       "       [20, 40, 60, 20, 40, 60],\n",
       "       [30, 60, 90, 30, 60, 90]])"
      ]
     },
     "execution_count": 126,
     "metadata": {},
     "output_type": "execute_result"
    }
   ],
   "source": [
    "np.column_stack([arr3, arr3])"
   ]
  },
  {
   "cell_type": "code",
   "execution_count": 127,
   "id": "e7bdb904",
   "metadata": {},
   "outputs": [
    {
     "data": {
      "text/plain": [
       "array([[10, 20, 30],\n",
       "       [20, 40, 60],\n",
       "       [30, 60, 90],\n",
       "       [10, 20, 30],\n",
       "       [20, 40, 60],\n",
       "       [30, 60, 90]])"
      ]
     },
     "execution_count": 127,
     "metadata": {},
     "output_type": "execute_result"
    }
   ],
   "source": [
    "np.row_stack([arr3, arr3])"
   ]
  },
  {
   "cell_type": "markdown",
   "id": "61ebb11c",
   "metadata": {},
   "source": [
    "---\n",
    "#### Map"
   ]
  },
  {
   "cell_type": "code",
   "execution_count": 131,
   "id": "54a36bf7",
   "metadata": {},
   "outputs": [
    {
     "data": {
      "text/plain": [
       "[1, 4, 9, 16, 25]"
      ]
     },
     "execution_count": 131,
     "metadata": {},
     "output_type": "execute_result"
    }
   ],
   "source": [
    "numbers = [1,2,3,4,5]\n",
    "\n",
    "# 각 요소를 제곱하는 함수\n",
    "def square(n):\n",
    "    return n**2\n",
    "\n",
    "list(map(square, numbers))"
   ]
  },
  {
   "cell_type": "code",
   "execution_count": 132,
   "id": "ac7cc847",
   "metadata": {},
   "outputs": [
    {
     "data": {
      "text/plain": [
       "[1, 4, 9, 16, 25]"
      ]
     },
     "execution_count": 132,
     "metadata": {},
     "output_type": "execute_result"
    }
   ],
   "source": [
    "numbers = [1,2,3,4,5]\n",
    "list(map(lambda x: x**2, numbers))"
   ]
  },
  {
   "cell_type": "code",
   "execution_count": 134,
   "id": "b1494d08",
   "metadata": {},
   "outputs": [
    {
     "data": {
      "text/plain": [
       "[5, 7, 9]"
      ]
     },
     "execution_count": 134,
     "metadata": {},
     "output_type": "execute_result"
    }
   ],
   "source": [
    "# 여러 리스트를 동시에 변환\n",
    "\n",
    "list1 = [1,2,3]\n",
    "list2 = [4,5,6]\n",
    "\n",
    "list(map(lambda x,y: x+y, list1, list2))"
   ]
  },
  {
   "cell_type": "code",
   "execution_count": 137,
   "id": "2449ea62",
   "metadata": {},
   "outputs": [
    {
     "data": {
      "text/plain": [
       "['HELLO', 'WORLD', 'PYTHON']"
      ]
     },
     "execution_count": 137,
     "metadata": {},
     "output_type": "execute_result"
    }
   ],
   "source": [
    "# 문자열 리스트를 대문자 변환후 리스트 \n",
    "words = ['hello','world','python']\n",
    "\n",
    "list(map(str.upper, words))"
   ]
  },
  {
   "cell_type": "code",
   "execution_count": 138,
   "id": "fe58f12b",
   "metadata": {},
   "outputs": [
    {
     "data": {
      "text/plain": [
       "['홀수', '짝수', '홀수', '짝수', '홀수']"
      ]
     },
     "execution_count": 138,
     "metadata": {},
     "output_type": "execute_result"
    }
   ],
   "source": [
    "# 조건을 적용한 변환 (짝수, 홀수)\n",
    "numbers = [1,2,3,4,5]\n",
    "list(map(lambda x: \"짝수\" if x%2 ==0 else \"홀수\", numbers))"
   ]
  },
  {
   "cell_type": "markdown",
   "id": "5059b075",
   "metadata": {},
   "source": [
    "#### matplotlib으로 그래프 그리기"
   ]
  },
  {
   "cell_type": "code",
   "execution_count": 139,
   "id": "c5897a74",
   "metadata": {},
   "outputs": [],
   "source": [
    "import matplotlib.pyplot as plt"
   ]
  },
  {
   "cell_type": "code",
   "execution_count": 140,
   "id": "938b4545",
   "metadata": {},
   "outputs": [
    {
     "data": {
      "image/png": "[encoded data removed]",
      "text/plain": [
       "<Figure size 640x480 with 1 Axes>"
      ]
     },
     "metadata": {},
     "output_type": "display_data"
    }
   ],
   "source": [
    "# 선그래프 \n",
    "plt.plot(\n",
    "    [1,2,3,4,5],\n",
    "    [1,4,9,16,25]\n",
    ")\n",
    "plt.show()"
   ]
  },
  {
   "cell_type": "code",
   "execution_count": 141,
   "id": "6d0f0056",
   "metadata": {},
   "outputs": [
    {
     "data": {
      "image/png": "[encoded data removed]",
      "text/plain": [
       "<Figure size 640x480 with 1 Axes>"
      ]
     },
     "metadata": {},
     "output_type": "display_data"
    }
   ],
   "source": [
    "# 산점도(산포도, 스캐터) 그리기\n",
    "plt.scatter(\n",
    "    [1,2,3,4,5],\n",
    "    [1,4,9,16,25]\n",
    ")\n",
    "plt.show()"
   ]
  },
  {
   "cell_type": "code",
   "execution_count": 142,
   "id": "c862a151",
   "metadata": {},
   "outputs": [
    {
     "data": {
      "image/png": "[encoded data removed]",
      "text/plain": [
       "<Figure size 640x480 with 1 Axes>"
      ]
     },
     "metadata": {},
     "output_type": "display_data"
    }
   ],
   "source": [
    "# 넘파이 배열로 산점도 그리기\n",
    "x = np.random.randn(1000) # 평균:0, 표준편차:1인 표준정규분포 난수 \n",
    "y = np.random.randn(1000) # 평균:0, 표준편차:1인 표준정규분포 난수 \n",
    "\n",
    "plt.scatter(\n",
    "    x,\n",
    "    y\n",
    ")\n",
    "\n",
    "plt.show()"
   ]
  },
  {
   "cell_type": "code",
   "execution_count": null,
   "id": "185ad12b",
   "metadata": {},
   "outputs": [],
   "source": []
  }
 ],
 "metadata": {
  "kernelspec": {
   "display_name": "base",
   "language": "python",
   "name": "python3"
  },
  "language_info": {
   "codemirror_mode": {
    "name": "ipython",
    "version": 3
   },
   "file_extension": ".py",
   "mimetype": "text/x-python",
   "name": "python",
   "nbconvert_exporter": "python",
   "pygments_lexer": "ipython3",
   "version": "3.12.7"
  }
 },
 "nbformat": 4,
 "nbformat_minor": 5
}
